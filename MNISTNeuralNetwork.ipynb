{
 "cells": [
  {
   "cell_type": "markdown",
   "metadata": {
    "collapsed": true,
    "pycharm": {
     "name": "#%% md\n"
    }
   },
   "source": [
    "**IMPORTING LIBRARIES**"
   ]
  },
  {
   "cell_type": "code",
   "execution_count": 51,
   "outputs": [],
   "source": [
    "import numpy as np\n",
    "import pandas as pd\n",
    "from keras.datasets import mnist"
   ],
   "metadata": {
    "collapsed": false,
    "pycharm": {
     "name": "#%%\n"
    }
   }
  },
  {
   "cell_type": "code",
   "execution_count": 52,
   "outputs": [
    {
     "name": "stdout",
     "output_type": "stream",
     "text": [
      "X_train: (60000, 28, 28)\n",
      "Y_train: (60000,)\n",
      "X_test:  (10000, 28, 28)\n",
      "Y_test:  (10000,)\n",
      "X_train after turning image into 1d array: (60000, 784)\n",
      "X_test after turning image into 1d array: (10000, 784)\n"
     ]
    }
   ],
   "source": [
    "(train_X, train_y), (test_X, test_y) = mnist.load_data()\n",
    "\n",
    "print('X_train: ' + str(train_X.shape))\n",
    "print('Y_train: ' + str(train_y.shape))\n",
    "print('X_test:  '  + str(test_X.shape))\n",
    "print('Y_test:  '  + str(test_y.shape))\n",
    "\n",
    "train_X= np.reshape(train_X, (np.shape(train_X)[0], 28*28), order='C' )\n",
    "test_X= np.reshape(test_X, (np.shape(test_X)[0], 28*28), order='C' )\n",
    "print('X_train after turning image into 1d array: ' + str(train_X.shape))\n",
    "print('X_test after turning image into 1d array: ' + str(test_X.shape))"
   ],
   "metadata": {
    "collapsed": false,
    "pycharm": {
     "name": "#%%\n"
    }
   }
  },
  {
   "cell_type": "code",
   "execution_count": 57,
   "outputs": [],
   "source": [
    "class Cnn:\n",
    "    def __init__(self, size):\n",
    "        self.layerInputSize = np.array(size)\n",
    "        self.hiddenLayerDepth = np.size(self.layerInputSize) - 2\n",
    "        self.weights = []\n",
    "\n",
    "    def initialize_network(self):\n",
    "        for i in range(np.size(self.layerInputSize) - 1):\n",
    "            self.weights.append((np.random.rand(self.layerInputSize[i+1], self.layerInputSize[i]) * 0.001))"
   ],
   "metadata": {
    "collapsed": false,
    "pycharm": {
     "name": "#%%\n"
    }
   }
  },
  {
   "cell_type": "code",
   "execution_count": 64,
   "outputs": [
    {
     "name": "stdout",
     "output_type": "stream",
     "text": [
      "[784 128  64  32  10]\n",
      "3\n"
     ]
    }
   ],
   "source": [
    "neuralNetwork = Cnn([train_X.shape[1], 128, 64, 32, 10])\n",
    "print(neuralNetwork.layerInputSize)\n",
    "print(neuralNetwork.hiddenLayerDepth)\n",
    "\n",
    "neuralNetwork.initialize_network()"
   ],
   "metadata": {
    "collapsed": false,
    "pycharm": {
     "name": "#%%\n"
    }
   }
  },
  {
   "cell_type": "code",
   "execution_count": 65,
   "outputs": [
    {
     "name": "stdout",
     "output_type": "stream",
     "text": [
      "(128, 784)\n",
      "(64, 128)\n",
      "(32, 64)\n",
      "(10, 32)\n"
     ]
    }
   ],
   "source": [
    "for i in range(np.shape(neuralNetwork.weights)[0]):\n",
    "    print(np.shape(neuralNetwork.weights[i]))"
   ],
   "metadata": {
    "collapsed": false,
    "pycharm": {
     "name": "#%%\n"
    }
   }
  },
  {
   "cell_type": "code",
   "execution_count": null,
   "outputs": [],
   "source": [],
   "metadata": {
    "collapsed": false,
    "pycharm": {
     "name": "#%%\n"
    }
   }
  }
 ],
 "metadata": {
  "kernelspec": {
   "display_name": "Python 3",
   "language": "python",
   "name": "python3"
  },
  "language_info": {
   "codemirror_mode": {
    "name": "ipython",
    "version": 2
   },
   "file_extension": ".py",
   "mimetype": "text/x-python",
   "name": "python",
   "nbconvert_exporter": "python",
   "pygments_lexer": "ipython2",
   "version": "2.7.6"
  }
 },
 "nbformat": 4,
 "nbformat_minor": 0
}